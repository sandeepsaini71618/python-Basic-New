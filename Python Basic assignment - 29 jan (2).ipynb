{
 "cells": [
  {
   "cell_type": "markdown",
   "id": "5bfc6734-53ee-419c-85c0-42c368f54ff1",
   "metadata": {},
   "source": [
    "# Q1 Who developed Python Programming Language?"
   ]
  },
  {
   "cell_type": "markdown",
   "id": "830a85da-4b3c-4511-9132-e11806ee9221",
   "metadata": {},
   "source": [
    "Python was developed by Guido van Rossum in the late 1980s and early 1990s. Guido van Rossum was a Dutch programmer who started working on Python in December 1989, while he was working at the National Research Institute for Mathematics and Computer Science (CWI) in the Netherlands. "
   ]
  },
  {
   "cell_type": "markdown",
   "id": "f68417ac-0fed-4363-868f-8d0d4f268b29",
   "metadata": {},
   "source": [
    "# Q2 Which type of Programming does Python support?"
   ]
  },
  {
   "cell_type": "markdown",
   "id": "7208856c-c8dd-41a6-ac7b-de7b77eee34f",
   "metadata": {},
   "source": [
    "Python is a high-level, general-purpose programming language that supports multiple programming paradigms, including:\n",
    "\n",
    "Procedural programming: Python supports writing procedural code, where a program is structured as a sequence of steps that are executed in order.\n",
    "\n",
    "Object-oriented programming: Python has built-in support for object-oriented programming (OOP), which allows you to organize your code into reusable objects and classes.\n",
    "\n",
    "Functional programming: Python supports functional programming, which emphasizes the use of pure functions and immutable data structures.\n",
    "\n",
    "Aspect-oriented programming: Python supports aspect-oriented programming (AOP), which allows you to separate cross-cutting concerns, such as logging and error handling, from the core logic of your program.\n",
    "\n",
    "Overall, Python's flexibility and support for multiple programming paradigms make it a popular choice for a wide range of applications, from web development to data science and machine learning."
   ]
  },
  {
   "cell_type": "markdown",
   "id": "389d420a-a612-4c78-9879-b6756b100e76",
   "metadata": {},
   "source": [
    "# Q3 Is Python case sensitive when dealing with identifiers?"
   ]
  },
  {
   "cell_type": "markdown",
   "id": "325cd824-79f8-4611-90fb-136f583bbacd",
   "metadata": {},
   "source": [
    "Yes, Python is a case-sensitive programming language when it comes to identifiers such as variable names, function names, and class names. This means that two identifiers with different cases are considered different and distinct by the Python interpreter.\n",
    "\n",
    "For example, the variables my_variable, My_variable, and MY_VARIABLE are all different variables in Python and can be assigned different values. The same applies to function names and class names."
   ]
  },
  {
   "cell_type": "markdown",
   "id": "ad192970-ffc9-4d88-aa9b-a350e055656d",
   "metadata": {},
   "source": [
    "# Q4 What is the correct extension of the Python file?"
   ]
  },
  {
   "cell_type": "markdown",
   "id": "38e0273f-0fa1-4cf6-aa7f-edd6790fefae",
   "metadata": {},
   "source": [
    "The convention for the extension of Python source code files is .py.\n",
    "\n",
    "So, if you are creating a file that contains Python code, you should save it with a file name that ends with the extension \".py\". For example, a file containing Python code could be named \"my_program.py\".\n",
    "\n",
    "It's worth noting that there are some other file extensions that are sometimes used for Python files, but these are less common and not recommended. For example, .pyc is the extension for compiled Python files, and .pyo is used for optimized compiled Python files. However, you generally don't need to worry about these extensions unless you are working on advanced Python projects."
   ]
  },
  {
   "cell_type": "markdown",
   "id": "9e1e6bdc-cd16-4f78-9d56-a8dbd63c4e15",
   "metadata": {},
   "source": [
    "# Q5 Is Python code compiled or interpreted?"
   ]
  },
  {
   "cell_type": "markdown",
   "id": "c27c2264-5a24-42bb-855d-24f1313ae5b5",
   "metadata": {},
   "source": [
    "Python code is interpreted, which means that Python source code is executed directly by an interpreter, line by line, rather than being compiled into machine code before execution.\n",
    "\n",
    "When you run a Python script or program, the Python interpreter reads and executes the code line by line, interpreting each line as it goes. This allows for a more dynamic and interactive programming experience, as you can write and execute code on-the-fly without the need to compile it beforehand."
   ]
  },
  {
   "cell_type": "markdown",
   "id": "d100015e-8320-490b-a10a-dbc82cd940ea",
   "metadata": {},
   "source": [
    "# Q6 Name a few blocks of code used to define in Python language?"
   ]
  },
  {
   "cell_type": "markdown",
   "id": "2f24ad4e-6405-461d-aa23-34167e4d6695",
   "metadata": {},
   "source": [
    "In Python, you can define several blocks of code using indentation. The most common blocks of code in Python are:\n",
    "    Function block,\n",
    "    Class block,\n",
    "    Conditional block,\n",
    "    Loop block"
   ]
  },
  {
   "cell_type": "markdown",
   "id": "a48bdb66-e78c-425a-9a17-c248d779a605",
   "metadata": {},
   "source": [
    "# Q7  State a character used to give single-line comments in Python?"
   ]
  },
  {
   "cell_type": "code",
   "execution_count": 2,
   "id": "ca2e041e-e230-433e-8fee-965a9ec40165",
   "metadata": {},
   "outputs": [
    {
     "name": "stdout",
     "output_type": "stream",
     "text": [
      "pwskills\n"
     ]
    }
   ],
   "source": [
    "# this is single line comment\n",
    "print(\"pwskills\") # this is the second line comment"
   ]
  },
  {
   "cell_type": "markdown",
   "id": "8e7356dd-7732-46bd-9c1c-12b7a9b98289",
   "metadata": {},
   "source": [
    "# Q8 Mention functions which can help us to find the version of python that we are currently working on?"
   ]
  },
  {
   "cell_type": "markdown",
   "id": "ad835ebd-3792-4c4f-98d9-8b84e3c69485",
   "metadata": {},
   "source": [
    "There are a few functions that you can use to find the version of Python that you are currently working on. Here are a few examples:\n",
    "    \n",
    "    "
   ]
  },
  {
   "cell_type": "markdown",
   "id": "ee00eecd-9aca-4538-b659-6727de5ec0de",
   "metadata": {},
   "source": [
    "1. sys.version: This function returns a string containing the Python version number, as well as other information about the Python installation."
   ]
  },
  {
   "cell_type": "code",
   "execution_count": 3,
   "id": "051e0763-96f4-4664-a694-c0164196326b",
   "metadata": {},
   "outputs": [
    {
     "name": "stdout",
     "output_type": "stream",
     "text": [
      "3.10.8 | packaged by conda-forge | (main, Nov 22 2022, 08:26:04) [GCC 10.4.0]\n"
     ]
    }
   ],
   "source": [
    "import sys\n",
    "print(sys.version)"
   ]
  },
  {
   "cell_type": "markdown",
   "id": "79f353fd-3139-4a28-81c6-3ff692db3409",
   "metadata": {},
   "source": [
    "2. platform.python_version(): This function returns a string containing the Python version number, in a slightly different format than sys.version."
   ]
  },
  {
   "cell_type": "code",
   "execution_count": 5,
   "id": "34302334-e2af-41d0-9786-7a87c3a4e0a3",
   "metadata": {},
   "outputs": [
    {
     "name": "stdout",
     "output_type": "stream",
     "text": [
      "3.10.8\n"
     ]
    }
   ],
   "source": [
    "import platform\n",
    "print (platform.python_version())"
   ]
  },
  {
   "cell_type": "markdown",
   "id": "3cce533f-f625-4513-a19e-69b0586b95ac",
   "metadata": {},
   "source": [
    "3. sys.version_info: This function returns a tuple containing information about the Python version, such as the major version number, minor version number, and patch level. "
   ]
  },
  {
   "cell_type": "code",
   "execution_count": 9,
   "id": "61bdf449-eb0d-4440-8d61-5f283ba768df",
   "metadata": {},
   "outputs": [
    {
     "name": "stdout",
     "output_type": "stream",
     "text": [
      "sys.version_info(major=3, minor=10, micro=8, releaselevel='final', serial=0)\n"
     ]
    }
   ],
   "source": [
    "import sys\n",
    "print(sys.version_info)"
   ]
  },
  {
   "cell_type": "markdown",
   "id": "57a0faba-eac8-4e88-8dfe-5918ffd96b8d",
   "metadata": {},
   "source": [
    "# Q9 Python supports the creation of anonymous functions at runtime, using a construct called"
   ]
  },
  {
   "cell_type": "markdown",
   "id": "7a7a0df6-2ca5-4d34-bec1-96ff26c4f2fd",
   "metadata": {},
   "source": [
    "Python supports the creation of anonymous functions at runtime, using a construct called \"lambda functions\" or \"lambda expressions\"."
   ]
  },
  {
   "cell_type": "markdown",
   "id": "48fde99b-e221-4bd4-93bb-d3b1ac954291",
   "metadata": {},
   "source": [
    "Lambda functions are small, single-expression functions that are defined inline, without a name. They are often used for short, simple operations that don't require a full function definition."
   ]
  },
  {
   "cell_type": "code",
   "execution_count": 10,
   "id": "e7dfd767-81af-4d88-a742-b15bbeebfb4b",
   "metadata": {},
   "outputs": [],
   "source": [
    "squre=lambda x:x**2"
   ]
  },
  {
   "cell_type": "code",
   "execution_count": 11,
   "id": "fb089f66-e30c-465b-a048-780687ecb85f",
   "metadata": {},
   "outputs": [
    {
     "data": {
      "text/plain": [
       "4"
      ]
     },
     "execution_count": 11,
     "metadata": {},
     "output_type": "execute_result"
    }
   ],
   "source": [
    "squre(2)"
   ]
  },
  {
   "cell_type": "markdown",
   "id": "f97d07b5-a2ca-4263-9175-3f968ba99f93",
   "metadata": {},
   "source": [
    "# Q10 What does pip stand for python?"
   ]
  },
  {
   "cell_type": "markdown",
   "id": "cb9c42a9-9c58-4971-89dc-9a0c94f28e30",
   "metadata": {},
   "source": [
    "In Python, \"pip\" stands for \"Pip Installs Packages\".\n",
    "\n",
    "Pip is a package manager for Python that makes it easy to install and manage third-party Python packages and libraries. It allows you to search for and download packages from the Python Package Index (PyPI), as well as install and manage dependencies for your Python projects.\n",
    "\n",
    "Pip is a command-line tool that comes bundled with Python, starting from Python version 3.4. If you're using an older version of Python, you may need to install Pip manually.\n",
    "\n",
    "Some common Pip commands include:\n",
    "\n",
    "pip install <package>: Installs a package from PyPI.\n",
    "    \n",
    "    \n",
    "pip uninstall <package>: Uninstalls a package.\n",
    "    \n",
    "    \n",
    "    \n",
    "    \n",
    "    \n",
    "pip freeze: Lists all installed packages and their versions.\n",
    "    \n",
    "    \n",
    "    \n",
    "pip install -r requirements.txt: Installs all the packages listed in a requirements file."
   ]
  },
  {
   "cell_type": "markdown",
   "id": "fd62f9b4-0e3d-4819-b342-99f107b2f3f6",
   "metadata": {},
   "source": [
    "# Q11 Mention a few built-in functions in python?"
   ]
  },
  {
   "cell_type": "markdown",
   "id": "78514933-da20-45ed-93b8-820ba6abb3fc",
   "metadata": {},
   "source": [
    "There are some built in function\n",
    "\n",
    "print()\n",
    "\n",
    "\n",
    "len()\n",
    "\n",
    "\n",
    "range()\n",
    "\n",
    "\n",
    "type()\n",
    "\n",
    "\n",
    "input()\n",
    "\n",
    "\n",
    "\n",
    "str()\n",
    "\n",
    "\n",
    "\n",
    "int()"
   ]
  },
  {
   "cell_type": "markdown",
   "id": "29fc9d7b-9d16-477c-a0d0-62202bec2969",
   "metadata": {},
   "source": [
    "# Q12 What is the maximum possible length of an identifier in Python?"
   ]
  },
  {
   "cell_type": "markdown",
   "id": "46fd62aa-de16-4ba9-8739-24a4c3492d65",
   "metadata": {},
   "source": [
    "In Python, the maximum length of an identifier (i.e., the name of a variable, function, class, or module) is not specified. However, there are some practical limits to the length of identifiers that you should keep in mind:\n",
    "    \n",
    "    \n",
    "\n",
    "PEP 8, the official Python style guide, recommends that identifiers be no more than 79 characters long. This is because longer identifiers can be difficult to read and may not fit well within the typical width of a code editor or terminal window.\n",
    "\n",
    "\n",
    "\n",
    "Python does have a limit on the length of a line of code, which is typically 79 or 80 characters. If an identifier is too long to fit on a single line of code, you may need to split it across multiple lines using the backslash (\\) character or by enclosing it in parentheses."
   ]
  },
  {
   "cell_type": "markdown",
   "id": "5a64f92a-80e8-4f42-b0c8-5770ea267c56",
   "metadata": {},
   "source": [
    "# Q13  What are the benefits of using Python?"
   ]
  },
  {
   "cell_type": "markdown",
   "id": "bc8791b0-a27a-44a1-8880-922cd31f0426",
   "metadata": {},
   "source": [
    "Easy to learn: Python has a simple and intuitive syntax that makes it easy to learn, even for beginners. Its code is highly readable and easy to understand, making it a great language for those new to programming.\n",
    "\n",
    "\n",
    "\n",
    "Versatile: Python can be used for a wide variety of programming tasks, from web development to data analysis to machine learning. It has a large and active community that is constantly developing new libraries and frameworks, making it a powerful and flexible language.\n",
    "\n",
    "\n",
    "\n",
    "Portable: Python code can be run on any platform, including Windows, macOS, Linux, and more. This makes it easy to write code that can be deployed and run on multiple operating systems.\n",
    "\n",
    "\n",
    "\n",
    "Large standard library: Python comes with a large standard library that provides a wide range of functionality, including file I/O, networking, database access, and more. This makes it easy to build complex applications without having to write all the code from scratch.\n",
    "\n",
    "\n",
    "\n",
    "\n",
    "Third-party libraries: Python has a vast ecosystem of third-party libraries and frameworks that make it easy to add new functionality to your code. Some of the most popular libraries include NumPy, Pandas, Matplotlib, Django, Flask, and TensorFlow.\n",
    "\n",
    "\n",
    "\n",
    "\n",
    "Productivity: Python is a high-level language that allows you to write code quickly and efficiently. Its powerful built-in data structures and dynamic typing make it easy to write concise, expressive code that is easy to maintain and update."
   ]
  },
  {
   "cell_type": "markdown",
   "id": "79b167b5-3c0e-4513-8aa1-6cb60b6c7676",
   "metadata": {},
   "source": [
    "# Q 14   How is memory managed in Python?"
   ]
  },
  {
   "cell_type": "markdown",
   "id": "71ab5d37-0edb-4a8f-962b-7e9571674a49",
   "metadata": {},
   "source": [
    "Memory management in Python is handled automatically by the Python interpreter through a process called garbage collection. The garbage collector in Python automatically detects and frees memory that is no longer being used by the program, which helps to prevent memory leaks and other issues that can arise from manual memory management.\n",
    "\n",
    "\n",
    "\n",
    "Python uses a system of reference counting to keep track of objects in memory. Each object in memory has a reference count, which is the number of variables and other objects that are currently referring to it. When the reference count of an object reaches zero, the garbage collector automatically frees the memory used by the object.\n",
    "\n",
    "\n",
    "\n",
    "\n",
    "In addition to reference counting, Python also uses a generational garbage collection scheme, which divides objects into different generations based on their age. New objects are placed in the youngest generation, and as they age and survive garbage collection cycles, they are promoted to older generations. This helps to improve the efficiency of garbage collection by reducing the amount of memory that needs to be scanned during each cycle."
   ]
  },
  {
   "cell_type": "markdown",
   "id": "97f44675-36b5-43ad-b036-a6053929111f",
   "metadata": {},
   "source": [
    "# Q15  How to install Python on Windows and set path variables? "
   ]
  },
  {
   "cell_type": "markdown",
   "id": "c20b7771-5320-4bab-b2b3-62241c688278",
   "metadata": {},
   "source": [
    "Download Python: Go to the official Python website at https://www.python.org/downloads/windows/ and download the latest version of Python for Windows. Choose the appropriate version (32-bit or 64-bit) for your system.\n",
    "\n",
    "\n",
    "\n",
    "Install Python: Run the downloaded Python installer and follow the instructions to install Python on your system. Make sure to check the box that says \"Add Python to PATH\" during the installation process.\n",
    "\n",
    "\n",
    "\n",
    "Verify installation: Open a Command Prompt window and type \"python\" to check if Python is installed and the path variable is set correctly. You should see the Python interpreter start up, displaying the version number and a prompt (\">>>\").\n",
    "\n",
    "\n",
    "\n",
    "Set path variables: If you need to set the path variable manually, follow these steps:\n",
    "\n",
    "\n",
    "    \n",
    "    a. Open the Start menu and search for \"Environment Variables\".\n",
    "\n",
    "\n",
    "    \n",
    "    b. Click on \"Edit the system environment variables\".\n",
    "\n",
    "\n",
    "    \n",
    "    c. Click on the \"Environment Variables\" button.\n",
    "\n",
    "\n",
    "    \n",
    "    d. Under \"System Variables\", find the \"Path\" variable and click \"Edit\".\n",
    "\n",
    "\n",
    "    \n",
    "    e. Add the path to the \"Scripts\" folder in your Python installation directory (e.g., C:\\Python39\\Scripts) to the list of paths. Make sure to separate it from the other paths with a semicolon.\n",
    "\n",
    "\n",
    "    \n",
    "    f. Click \"OK\" to close all the windows and apply the changes.\n",
    "\n",
    "\n",
    "    \n",
    "    Verify path variables: Open a new Command Prompt window and type \"python\" to verify that the path variable is set correctly. You should be able to start the Python interpreter from any directory by typing \"python\" at the command prompt."
   ]
  },
  {
   "cell_type": "markdown",
   "id": "1316ad71-c8be-4cce-8151-18241aaa2979",
   "metadata": {},
   "source": [
    "# Q 16   Is indentation required in python?"
   ]
  },
  {
   "cell_type": "markdown",
   "id": "e24f4c12-857d-4e9a-85ce-fc135526df86",
   "metadata": {},
   "source": [
    "Yes, indentation is required in Python. In fact, indentation is a fundamental part of Python's syntax and is used to indicate the structure and hierarchy of code blocks in a program.\n",
    "\n",
    "\n",
    "\n",
    "In Python, code blocks are defined by their indentation level, rather than by enclosing braces or brackets like in many other programming languages. This means that the indentation of your code is important and affects the meaning and execution of your program."
   ]
  },
  {
   "cell_type": "code",
   "execution_count": 12,
   "id": "2b2dcbfc-54a3-4e01-9593-e7acc7082e2b",
   "metadata": {},
   "outputs": [
    {
     "ename": "IndentationError",
     "evalue": "expected an indented block after 'if' statement on line 1 (460261362.py, line 2)",
     "output_type": "error",
     "traceback": [
      "\u001b[0;36m  Cell \u001b[0;32mIn[12], line 2\u001b[0;36m\u001b[0m\n\u001b[0;31m    print(\"x is positive\")\u001b[0m\n\u001b[0m    ^\u001b[0m\n\u001b[0;31mIndentationError\u001b[0m\u001b[0;31m:\u001b[0m expected an indented block after 'if' statement on line 1\n"
     ]
    }
   ],
   "source": [
    "if x > 0:\n",
    "print(\"x is positive\")\n",
    "else:\n",
    "print(\"x is not positive\")"
   ]
  },
  {
   "cell_type": "markdown",
   "id": "c547c844-6859-41c6-9889-68d0c8af5f83",
   "metadata": {},
   "source": [
    "This code will result in a syntax error because the lines after the if and else statements are not indented properly. "
   ]
  },
  {
   "cell_type": "code",
   "execution_count": null,
   "id": "84f9a426-7a5d-4e23-8c82-003827043b87",
   "metadata": {},
   "outputs": [],
   "source": []
  }
 ],
 "metadata": {
  "kernelspec": {
   "display_name": "Python 3 (ipykernel)",
   "language": "python",
   "name": "python3"
  },
  "language_info": {
   "codemirror_mode": {
    "name": "ipython",
    "version": 3
   },
   "file_extension": ".py",
   "mimetype": "text/x-python",
   "name": "python",
   "nbconvert_exporter": "python",
   "pygments_lexer": "ipython3",
   "version": "3.10.8"
  }
 },
 "nbformat": 4,
 "nbformat_minor": 5
}
